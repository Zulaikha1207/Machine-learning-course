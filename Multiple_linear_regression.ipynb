{
  "nbformat": 4,
  "nbformat_minor": 0,
  "metadata": {
    "colab": {
      "name": "Copy of multiple_linear_regression.ipynb",
      "provenance": [],
      "collapsed_sections": [],
      "toc_visible": true,
      "include_colab_link": true
    },
    "kernelspec": {
      "name": "python3",
      "display_name": "Python 3"
    }
  },
  "cells": [
    {
      "cell_type": "markdown",
      "metadata": {
        "id": "view-in-github",
        "colab_type": "text"
      },
      "source": [
        "<a href=\"https://colab.research.google.com/github/Zulaikha1207/Machine-learning-course/blob/master/Multiple_linear_regression.ipynb\" target=\"_parent\"><img src=\"https://colab.research.google.com/assets/colab-badge.svg\" alt=\"Open In Colab\"/></a>"
      ]
    },
    {
      "cell_type": "markdown",
      "metadata": {
        "id": "CazISR8X_HUG",
        "colab_type": "text"
      },
      "source": [
        "# Multiple Linear Regression"
      ]
    },
    {
      "cell_type": "markdown",
      "metadata": {
        "id": "pOyqYHTk_Q57",
        "colab_type": "text"
      },
      "source": [
        "## Importing the libraries"
      ]
    },
    {
      "cell_type": "code",
      "metadata": {
        "id": "tCFoj2QelJpE",
        "colab_type": "code",
        "colab": {}
      },
      "source": [
        "import numpy as np\n",
        "import pandas as pd\n",
        "import matplotlib.pyplot as plt"
      ],
      "execution_count": 1,
      "outputs": []
    },
    {
      "cell_type": "markdown",
      "metadata": {
        "id": "vgC61-ah_WIz",
        "colab_type": "text"
      },
      "source": [
        "## Importing the dataset"
      ]
    },
    {
      "cell_type": "code",
      "metadata": {
        "id": "CUxFGsKrlRuZ",
        "colab_type": "code",
        "colab": {}
      },
      "source": [
        "dataset = pd.read_csv('50_Startups.csv')\n",
        "X = dataset.iloc[:, :-1].values\n",
        "Y = dataset.iloc[:, -1].values"
      ],
      "execution_count": 18,
      "outputs": []
    },
    {
      "cell_type": "code",
      "metadata": {
        "id": "3XBg9HzdnToX",
        "colab_type": "code",
        "colab": {
          "base_uri": "https://localhost:8080/",
          "height": 874
        },
        "outputId": "7bb0bda1-9bde-451e-85d8-e32e2ba119a7"
      },
      "source": [
        "print(X)"
      ],
      "execution_count": 15,
      "outputs": [
        {
          "output_type": "stream",
          "text": [
            "    R&D Spend  Administration  Marketing Spend       State\n",
            "0   165349.20       136897.80        471784.10    New York\n",
            "1   162597.70       151377.59        443898.53  California\n",
            "2   153441.51       101145.55        407934.54     Florida\n",
            "3   144372.41       118671.85        383199.62    New York\n",
            "4   142107.34        91391.77        366168.42     Florida\n",
            "5   131876.90        99814.71        362861.36    New York\n",
            "6   134615.46       147198.87        127716.82  California\n",
            "7   130298.13       145530.06        323876.68     Florida\n",
            "8   120542.52       148718.95        311613.29    New York\n",
            "9   123334.88       108679.17        304981.62  California\n",
            "10  101913.08       110594.11        229160.95     Florida\n",
            "11  100671.96        91790.61        249744.55  California\n",
            "12   93863.75       127320.38        249839.44     Florida\n",
            "13   91992.39       135495.07        252664.93  California\n",
            "14  119943.24       156547.42        256512.92     Florida\n",
            "15  114523.61       122616.84        261776.23    New York\n",
            "16   78013.11       121597.55        264346.06  California\n",
            "17   94657.16       145077.58        282574.31    New York\n",
            "18   91749.16       114175.79        294919.57     Florida\n",
            "19   86419.70       153514.11             0.00    New York\n",
            "20   76253.86       113867.30        298664.47  California\n",
            "21   78389.47       153773.43        299737.29    New York\n",
            "22   73994.56       122782.75        303319.26     Florida\n",
            "23   67532.53       105751.03        304768.73     Florida\n",
            "24   77044.01        99281.34        140574.81    New York\n",
            "25   64664.71       139553.16        137962.62  California\n",
            "26   75328.87       144135.98        134050.07     Florida\n",
            "27   72107.60       127864.55        353183.81    New York\n",
            "28   66051.52       182645.56        118148.20     Florida\n",
            "29   65605.48       153032.06        107138.38    New York\n",
            "30   61994.48       115641.28         91131.24     Florida\n",
            "31   61136.38       152701.92         88218.23    New York\n",
            "32   63408.86       129219.61         46085.25  California\n",
            "33   55493.95       103057.49        214634.81     Florida\n",
            "34   46426.07       157693.92        210797.67  California\n",
            "35   46014.02        85047.44        205517.64    New York\n",
            "36   28663.76       127056.21        201126.82     Florida\n",
            "37   44069.95        51283.14        197029.42  California\n",
            "38   20229.59        65947.93        185265.10    New York\n",
            "39   38558.51        82982.09        174999.30  California\n",
            "40   28754.33       118546.05        172795.67  California\n",
            "41   27892.92        84710.77        164470.71     Florida\n",
            "42   23640.93        96189.63        148001.11  California\n",
            "43   15505.73       127382.30         35534.17    New York\n",
            "44   22177.74       154806.14         28334.72  California\n",
            "45    1000.23       124153.04          1903.93    New York\n",
            "46    1315.46       115816.21        297114.46     Florida\n",
            "47       0.00       135426.92             0.00  California\n",
            "48     542.05        51743.15             0.00    New York\n",
            "49       0.00       116983.80         45173.06  California\n"
          ],
          "name": "stdout"
        }
      ]
    },
    {
      "cell_type": "markdown",
      "metadata": {
        "id": "VadrvE7s_lS9",
        "colab_type": "text"
      },
      "source": [
        "## Encoding categorical data"
      ]
    },
    {
      "cell_type": "code",
      "metadata": {
        "id": "6es00fK5oIqu",
        "colab_type": "code",
        "colab": {}
      },
      "source": [
        "from sklearn.compose import ColumnTransformer\n",
        "from sklearn.preprocessing import OneHotEncoder\n",
        "ct = ColumnTransformer(transformers=[('encoder', OneHotEncoder(), [3])], remainder='passthrough')\n",
        "X = np.array(ct.fit_transform(X))"
      ],
      "execution_count": 19,
      "outputs": []
    },
    {
      "cell_type": "code",
      "metadata": {
        "id": "EyDbnbUxoJ90",
        "colab_type": "code",
        "colab": {
          "base_uri": "https://localhost:8080/",
          "height": 857
        },
        "outputId": "f29b060a-89d2-4ba8-83ba-2b8b51d75e39"
      },
      "source": [
        "print(X)"
      ],
      "execution_count": 20,
      "outputs": [
        {
          "output_type": "stream",
          "text": [
            "[[0.0 0.0 1.0 165349.2 136897.8 471784.1]\n",
            " [1.0 0.0 0.0 162597.7 151377.59 443898.53]\n",
            " [0.0 1.0 0.0 153441.51 101145.55 407934.54]\n",
            " [0.0 0.0 1.0 144372.41 118671.85 383199.62]\n",
            " [0.0 1.0 0.0 142107.34 91391.77 366168.42]\n",
            " [0.0 0.0 1.0 131876.9 99814.71 362861.36]\n",
            " [1.0 0.0 0.0 134615.46 147198.87 127716.82]\n",
            " [0.0 1.0 0.0 130298.13 145530.06 323876.68]\n",
            " [0.0 0.0 1.0 120542.52 148718.95 311613.29]\n",
            " [1.0 0.0 0.0 123334.88 108679.17 304981.62]\n",
            " [0.0 1.0 0.0 101913.08 110594.11 229160.95]\n",
            " [1.0 0.0 0.0 100671.96 91790.61 249744.55]\n",
            " [0.0 1.0 0.0 93863.75 127320.38 249839.44]\n",
            " [1.0 0.0 0.0 91992.39 135495.07 252664.93]\n",
            " [0.0 1.0 0.0 119943.24 156547.42 256512.92]\n",
            " [0.0 0.0 1.0 114523.61 122616.84 261776.23]\n",
            " [1.0 0.0 0.0 78013.11 121597.55 264346.06]\n",
            " [0.0 0.0 1.0 94657.16 145077.58 282574.31]\n",
            " [0.0 1.0 0.0 91749.16 114175.79 294919.57]\n",
            " [0.0 0.0 1.0 86419.7 153514.11 0.0]\n",
            " [1.0 0.0 0.0 76253.86 113867.3 298664.47]\n",
            " [0.0 0.0 1.0 78389.47 153773.43 299737.29]\n",
            " [0.0 1.0 0.0 73994.56 122782.75 303319.26]\n",
            " [0.0 1.0 0.0 67532.53 105751.03 304768.73]\n",
            " [0.0 0.0 1.0 77044.01 99281.34 140574.81]\n",
            " [1.0 0.0 0.0 64664.71 139553.16 137962.62]\n",
            " [0.0 1.0 0.0 75328.87 144135.98 134050.07]\n",
            " [0.0 0.0 1.0 72107.6 127864.55 353183.81]\n",
            " [0.0 1.0 0.0 66051.52 182645.56 118148.2]\n",
            " [0.0 0.0 1.0 65605.48 153032.06 107138.38]\n",
            " [0.0 1.0 0.0 61994.48 115641.28 91131.24]\n",
            " [0.0 0.0 1.0 61136.38 152701.92 88218.23]\n",
            " [1.0 0.0 0.0 63408.86 129219.61 46085.25]\n",
            " [0.0 1.0 0.0 55493.95 103057.49 214634.81]\n",
            " [1.0 0.0 0.0 46426.07 157693.92 210797.67]\n",
            " [0.0 0.0 1.0 46014.02 85047.44 205517.64]\n",
            " [0.0 1.0 0.0 28663.76 127056.21 201126.82]\n",
            " [1.0 0.0 0.0 44069.95 51283.14 197029.42]\n",
            " [0.0 0.0 1.0 20229.59 65947.93 185265.1]\n",
            " [1.0 0.0 0.0 38558.51 82982.09 174999.3]\n",
            " [1.0 0.0 0.0 28754.33 118546.05 172795.67]\n",
            " [0.0 1.0 0.0 27892.92 84710.77 164470.71]\n",
            " [1.0 0.0 0.0 23640.93 96189.63 148001.11]\n",
            " [0.0 0.0 1.0 15505.73 127382.3 35534.17]\n",
            " [1.0 0.0 0.0 22177.74 154806.14 28334.72]\n",
            " [0.0 0.0 1.0 1000.23 124153.04 1903.93]\n",
            " [0.0 1.0 0.0 1315.46 115816.21 297114.46]\n",
            " [1.0 0.0 0.0 0.0 135426.92 0.0]\n",
            " [0.0 0.0 1.0 542.05 51743.15 0.0]\n",
            " [1.0 0.0 0.0 0.0 116983.8 45173.06]]\n"
          ],
          "name": "stdout"
        }
      ]
    },
    {
      "cell_type": "markdown",
      "metadata": {
        "id": "WemVnqgeA70k",
        "colab_type": "text"
      },
      "source": [
        "## Splitting the dataset into the Training set and Test set"
      ]
    },
    {
      "cell_type": "code",
      "metadata": {
        "id": "p4NCom9klu86",
        "colab_type": "code",
        "colab": {}
      },
      "source": [
        "from sklearn.model_selection import train_test_split\n",
        "X_train, X_test, Y_train, Y_test = train_test_split(X, Y, test_size = 0.2, random_state =0)"
      ],
      "execution_count": 21,
      "outputs": []
    },
    {
      "cell_type": "markdown",
      "metadata": {
        "id": "k-McZVsQBINc",
        "colab_type": "text"
      },
      "source": [
        "## Training the Multiple Linear Regression model on the Training set"
      ]
    },
    {
      "cell_type": "code",
      "metadata": {
        "id": "AJqZcWBNqI-Y",
        "colab_type": "code",
        "colab": {
          "base_uri": "https://localhost:8080/",
          "height": 34
        },
        "outputId": "5fffc287-d40d-4d2a-c35e-e965f4d28def"
      },
      "source": [
        "from sklearn.linear_model import LinearRegression\n",
        "regressor = LinearRegression()\n",
        "regressor.fit(X_train, Y_train)"
      ],
      "execution_count": 22,
      "outputs": [
        {
          "output_type": "execute_result",
          "data": {
            "text/plain": [
              "LinearRegression(copy_X=True, fit_intercept=True, n_jobs=None, normalize=False)"
            ]
          },
          "metadata": {
            "tags": []
          },
          "execution_count": 22
        }
      ]
    },
    {
      "cell_type": "markdown",
      "metadata": {
        "id": "xNkXL1YQBiBT",
        "colab_type": "text"
      },
      "source": [
        "## Predicting the Test set results"
      ]
    },
    {
      "cell_type": "code",
      "metadata": {
        "id": "oZ8gN7WKt-60",
        "colab_type": "code",
        "colab": {
          "base_uri": "https://localhost:8080/",
          "height": 202
        },
        "outputId": "cf38aa41-21ae-4b95-a661-85d41c135685"
      },
      "source": [
        "y_pred = regressor.predict(X_test)\n",
        "df = pd.DataFrame({'Actual': Y_test.flatten(), 'Predicted': y_pred.flatten()})\n",
        "print(df)"
      ],
      "execution_count": null,
      "outputs": [
        {
          "output_type": "stream",
          "text": [
            "      Actual      Predicted\n",
            "0  103282.38  103015.201598\n",
            "1  144259.40  132582.277608\n",
            "2  146121.95  132447.738452\n",
            "3   77798.83   71976.098513\n",
            "4  191050.39  178537.482211\n",
            "5  105008.31  116161.242302\n",
            "6   81229.06   67851.692097\n",
            "7   97483.56   98791.733747\n",
            "8  110352.25  113969.435330\n",
            "9  166187.94  167921.065696\n"
          ],
          "name": "stdout"
        }
      ]
    },
    {
      "cell_type": "markdown",
      "metadata": {
        "colab_type": "text",
        "id": "ZC3ovotKwW_o"
      },
      "source": [
        "## Making a single prediction (for example the profit of a startup with R&D Spend = 160000, Administration Spend = 130000, Marketing Spend = 300000 and State = 'California')"
      ]
    },
    {
      "cell_type": "code",
      "metadata": {
        "id": "39CmxFmcvHL_",
        "colab_type": "code",
        "colab": {
          "base_uri": "https://localhost:8080/",
          "height": 34
        },
        "outputId": "13f98209-497f-43ec-f4c0-daa23b8dcaf4"
      },
      "source": [
        "print(regressor.predict([[1, 0, 0, 160000, 130000, 300000]]))"
      ],
      "execution_count": 24,
      "outputs": [
        {
          "output_type": "stream",
          "text": [
            "[181566.92389386]\n"
          ],
          "name": "stdout"
        }
      ]
    },
    {
      "cell_type": "markdown",
      "metadata": {
        "colab_type": "text",
        "id": "n01fFNojw1Bk"
      },
      "source": [
        "## Getting the final linear regression equation with the values of the coefficients"
      ]
    },
    {
      "cell_type": "code",
      "metadata": {
        "id": "mqzB9wdfw7j3",
        "colab_type": "code",
        "colab": {
          "base_uri": "https://localhost:8080/",
          "height": 67
        },
        "outputId": "fdf8ffd4-4ddf-403c-865c-ce3490202a59"
      },
      "source": [
        "print(regressor.coef_)\n",
        "print(regressor.intercept_)"
      ],
      "execution_count": 25,
      "outputs": [
        {
          "output_type": "stream",
          "text": [
            "[ 8.66383692e+01 -8.72645791e+02  7.86007422e+02  7.73467193e-01\n",
            "  3.28845975e-02  3.66100259e-02]\n",
            "42467.52924853204\n"
          ],
          "name": "stdout"
        }
      ]
    }
  ]
}